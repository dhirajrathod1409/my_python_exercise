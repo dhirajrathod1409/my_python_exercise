{
 "cells": [
  {
   "cell_type": "code",
   "execution_count": null,
   "metadata": {
    "id": "gXQ_OQjp_ajF"
   },
   "outputs": [],
   "source": []
  },
  {
   "cell_type": "markdown",
   "metadata": {
    "id": "UlTyvTnVDRXI"
   },
   "source": [
    "## 1. Create Python class named `Student` and display its type"
   ]
  },
  {
   "cell_type": "code",
   "execution_count": 1,
   "metadata": {},
   "outputs": [
    {
     "name": "stdout",
     "output_type": "stream",
     "text": [
      "<class '__main__.Student'>\n"
     ]
    }
   ],
   "source": [
    "# CODE HERE\n",
    "class Student:\n",
    "  pass\n",
    "obj=Student()\n",
    "print(type(obj))"
   ]
  },
  {
   "cell_type": "code",
   "execution_count": null,
   "metadata": {
    "colab": {
     "base_uri": "https://localhost:8080/"
    },
    "id": "DCcHnvOSDU9N",
    "outputId": "bc177e1e-656f-4a02-ab9f-a47693dbfdcc"
   },
   "outputs": [],
   "source": []
  },
  {
   "cell_type": "markdown",
   "metadata": {
    "id": "nYjL6Efcx6ad"
   },
   "source": [
    "## 2. How to call a variable and function by creating a simple class\n"
   ]
  },
  {
   "cell_type": "code",
   "execution_count": 2,
   "metadata": {
    "colab": {
     "base_uri": "https://localhost:8080/"
    },
    "id": "2cVJl1pTyQtS",
    "outputId": "a490e4f4-11a8-44e4-fc4d-5fefcab06e34"
   },
   "outputs": [
    {
     "name": "stdout",
     "output_type": "stream",
     "text": [
      "barks --> these is way of calling variable (attribute) a variable\n",
      "Dogs are very clever to his owner --> these is way of calling a function\n"
     ]
    }
   ],
   "source": [
    "class Dog:\n",
    "    Sound='barks'\n",
    "    def dog_property(self):\n",
    "        return 'Dogs are very clever to his owner'\n",
    "sheru=Dog()\n",
    "print(sheru.Sound,'--> these is way of calling variable (attribute) a variable')\n",
    "print(sheru.dog_property(),'--> these is way of calling a function')"
   ]
  },
  {
   "cell_type": "markdown",
   "metadata": {
    "id": "Qrn6EsJ7putu"
   },
   "source": [
    "## 3. Create a class with one `static variable` and two `instace variables`"
   ]
  },
  {
   "cell_type": "code",
   "execution_count": 3,
   "metadata": {
    "colab": {
     "base_uri": "https://localhost:8080/"
    },
    "id": "D5z1cympyQwS",
    "outputId": "83f642f9-4867-498f-b8b7-6b39101339f7"
   },
   "outputs": [
    {
     "name": "stdout",
     "output_type": "stream",
     "text": [
      "I am Static variable\n",
      "I am instance variable1\n",
      "I am instance variable2\n"
     ]
    }
   ],
   "source": [
    "class Demo():\n",
    "    var='I am Static variable'\n",
    "    def __init__(self,inst1,inst2):\n",
    "        self.inst1=inst1\n",
    "        self.inst2=inst2\n",
    "obj = Demo(inst1='I am instance variable1',inst2='I am instance variable2')\n",
    "print(obj.var)\n",
    "print(obj.inst1)\n",
    "print(obj.inst2)"
   ]
  },
  {
   "cell_type": "markdown",
   "metadata": {
    "id": "m2__2x3B_gub"
   },
   "source": [
    "## 4. Create a `Vehicle` class with max_speed and mileage instance attributes"
   ]
  },
  {
   "cell_type": "code",
   "execution_count": 4,
   "metadata": {
    "colab": {
     "base_uri": "https://localhost:8080/"
    },
    "id": "uTyOnoPN_qVJ",
    "outputId": "e4ed0414-9da1-4196-a802-41b39f455a3f"
   },
   "outputs": [
    {
     "name": "stdout",
     "output_type": "stream",
     "text": [
      "190 kmph max_speed given by Toyota_Fortuner_Legender\n",
      "10-14.47 kmpl said by ARAI mileage given by Toyota_Fortuner_Legender\n"
     ]
    }
   ],
   "source": [
    "class Vehicle:\n",
    "    def __init__(self,max_speed,mileage):\n",
    "        self.max_speed = max_speed\n",
    "        self.mileage = mileage\n",
    "Toyota_Fortuner_Legender= Vehicle(max_speed='190 kmph',mileage = '10-14.47 kmpl said by ARAI')\n",
    "print(Toyota_Fortuner_Legender.max_speed,'max_speed given by Toyota_Fortuner_Legender')\n",
    "print(Toyota_Fortuner_Legender.mileage,'mileage given by Toyota_Fortuner_Legender')"
   ]
  },
  {
   "cell_type": "code",
   "execution_count": null,
   "metadata": {
    "id": "_Pq79YB0_rF2"
   },
   "outputs": [],
   "source": []
  },
  {
   "cell_type": "markdown",
   "metadata": {
    "id": "dGGYG_Sm1N4y"
   },
   "source": [
    "## 5. Create a simple class `Person` with constructer and one argument `name`"
   ]
  },
  {
   "cell_type": "code",
   "execution_count": 5,
   "metadata": {
    "id": "zkAdBgQP1bNW"
   },
   "outputs": [
    {
     "name": "stdout",
     "output_type": "stream",
     "text": [
      "what is your name? Dhiraj\n",
      "hlo Dhiraj,how are you? welcome!\n"
     ]
    }
   ],
   "source": [
    "class Person:\n",
    "    def __init__(self,name):\n",
    "        self.name = name\n",
    "    def greet(self):\n",
    "        return f'hlo {self.name},how are you? welcome!'\n",
    "obj = Person('Dhiraj')\n",
    "print('what is your name?',obj.name)\n",
    "print(obj.greet())"
   ]
  },
  {
   "cell_type": "code",
   "execution_count": null,
   "metadata": {
    "colab": {
     "base_uri": "https://localhost:8080/"
    },
    "id": "i5vQQoIu0X_f",
    "outputId": "2b8f7cd2-cb9d-43f2-afdf-8f20411ef6cc"
   },
   "outputs": [],
   "source": []
  },
  {
   "cell_type": "code",
   "execution_count": null,
   "metadata": {
    "id": "JgeHHyrp2h1u"
   },
   "outputs": [],
   "source": []
  },
  {
   "cell_type": "markdown",
   "metadata": {
    "id": "T9AQ6X3i2k6l"
   },
   "source": [
    "## 6. Create a class for `Students` information like `name, rollno, marks` and `school name` with static variable.\n",
    "- create a function for displaying student information\n",
    "- create one more function for getting students marks and percentage "
   ]
  },
  {
   "cell_type": "code",
   "execution_count": 6,
   "metadata": {
    "colab": {
     "base_uri": "https://localhost:8080/"
    },
    "id": "cX4Z5_nx2h-O",
    "outputId": "5e032c7a-407b-455b-aef3-84b673a017ae"
   },
   "outputs": [
    {
     "name": "stdout",
     "output_type": "stream",
     "text": [
      "This is the information of student {'Name': 'Dhiraj', 'RollNo': 361, 'Marks': 399, 'College': 'INNOMATICS REASERCH LAB'}\n",
      "The marks and percentage obtained by student is 399 and 79.8 resptively\n"
     ]
    }
   ],
   "source": [
    "class Student:\n",
    "        Name='Dhiraj'\n",
    "        RollNo=361\n",
    "        Marks=399\n",
    "        College='INNOMATICS REASERCH LAB'\n",
    "        def information(self):\n",
    "            Dict={'Name':self.Name,'RollNo':self.RollNo,'Marks':self.Marks,'College':self.College}\n",
    "            return f'This is the information of student {Dict}'\n",
    "        def grade(self):\n",
    "            percentage=round((self.Marks/500)*100,2)\n",
    "            return f'The marks and percentage obtained by student is {self.Marks} and {percentage} resptively'\n",
    "            \n",
    "obj3=Student()\n",
    "print(obj3.information())\n",
    "print(obj3.grade())"
   ]
  },
  {
   "cell_type": "markdown",
   "metadata": {
    "id": "x-zGvkOi_9PD"
   },
   "source": [
    "## 7. Create a child class `Bus` that will inherit all of the variables and methods of the `Vehicle` class"
   ]
  },
  {
   "cell_type": "code",
   "execution_count": 7,
   "metadata": {
    "id": "5IppTc73__tp"
   },
   "outputs": [
    {
     "name": "stdout",
     "output_type": "stream",
     "text": [
      "45 this is the attribute inherit by child class\n",
      "1.5 this is the mileage attribute inherit by child class\n",
      "45 is a speed and 1.5 is a mileage ,this is a method inherit by child\n"
     ]
    }
   ],
   "source": [
    "class Vehicle:\n",
    "    def __init__(self,max_speed,mileage):\n",
    "        self.max_speed = max_speed\n",
    "        self.mileage = mileage\n",
    "    def information(self):\n",
    "        return f'{self.max_speed} is a speed and {self.mileage} is a mileage'\n",
    "        \n",
    "class Bus(Vehicle):\n",
    "    def __init__(self,max_speed,mileage):\n",
    "        return super().__init__(max_speed,mileage)\n",
    "\n",
    "pmt = Bus(45,1.5)\n",
    "print(pmt.max_speed,'this is the attribute inherit by child class')\n",
    "print(pmt.mileage,'this is the mileage attribute inherit by child class')\n",
    "print(pmt.information(),',this is a method inherit by child')"
   ]
  },
  {
   "cell_type": "code",
   "execution_count": null,
   "metadata": {
    "colab": {
     "base_uri": "https://localhost:8080/"
    },
    "id": "Qf4ZRcg8ADOq",
    "outputId": "36f05d4e-d177-4b0a-f60d-85df44b22756"
   },
   "outputs": [],
   "source": []
  },
  {
   "cell_type": "markdown",
   "metadata": {
    "id": "Cex1VHlicvR0"
   },
   "source": [
    "## 8. Create a class `Employee` with two arguments `name and salary`\n",
    "- create a function which displays the employee information\n",
    "- Print total number of employees "
   ]
  },
  {
   "cell_type": "code",
   "execution_count": 8,
   "metadata": {
    "colab": {
     "base_uri": "https://localhost:8080/"
    },
    "id": "BcTNOVUiAIn7",
    "outputId": "eada07d0-cb16-4b0c-bdca-a1b360ad24b7"
   },
   "outputs": [
    {
     "name": "stdout",
     "output_type": "stream",
     "text": [
      "name of employee is, Dhiraj\n",
      "salary of employee is, 100000\n",
      "this is the information of employee {'emp_name': 'Dhiraj', 'emp_salary': 100000}\n"
     ]
    }
   ],
   "source": [
    "class Employee:\n",
    "    def __init__(self,name,salary):\n",
    "        self.name= name\n",
    "        self.salary=salary\n",
    "    def emp_information(self):\n",
    "        Dict={'emp_name':self.name,'emp_salary':self.salary}\n",
    "        return f'this is the information of employee {Dict}'\n",
    "emp1=Employee('Dhiraj',100000)\n",
    "print('name of employee is,',emp1.name)\n",
    "print('salary of employee is,',emp1.salary)\n",
    "print(emp1.emp_information())"
   ]
  },
  {
   "cell_type": "code",
   "execution_count": null,
   "metadata": {
    "id": "BmFF6kFScPGl"
   },
   "outputs": [],
   "source": []
  }
 ],
 "metadata": {
  "colab": {
   "collapsed_sections": [],
   "name": "Class_Object_Asignment.ipynb",
   "provenance": []
  },
  "kernelspec": {
   "display_name": "Python 3 (ipykernel)",
   "language": "python",
   "name": "python3"
  },
  "language_info": {
   "codemirror_mode": {
    "name": "ipython",
    "version": 3
   },
   "file_extension": ".py",
   "mimetype": "text/x-python",
   "name": "python",
   "nbconvert_exporter": "python",
   "pygments_lexer": "ipython3",
   "version": "3.12.7"
  }
 },
 "nbformat": 4,
 "nbformat_minor": 4
}
