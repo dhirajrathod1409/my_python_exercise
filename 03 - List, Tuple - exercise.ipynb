{
 "cells": [
  {
   "cell_type": "markdown",
   "metadata": {},
   "source": [
    "# Assignment Instructions\n",
    "\n",
    "`Hello Innominion,`\n",
    "\n",
    "- **Try to attempt all the questions in every possible way.**\n",
    "- **Some other topics are required to solve some questions. don't panic.**\n",
    "- **Those questions can be answered after the topics are taught.**\n",
    "\n",
    "\n",
    "- `Join Mentoring Session for the Support/Doubts Resolving with Our Technical Mentors (2.00 PM - 6.00 PM  Mon-Sat)` \n",
    "\n",
    "Happy Learning !!!"
   ]
  },
  {
   "cell_type": "markdown",
   "metadata": {},
   "source": [
    "###  LIST"
   ]
  },
  {
   "cell_type": "markdown",
   "metadata": {},
   "source": [
    "`Question:`:Create a list of numbers\n",
    "> nums = [1,2,3,4] "
   ]
  },
  {
   "cell_type": "code",
   "execution_count": 1,
   "metadata": {},
   "outputs": [
    {
     "name": "stdout",
     "output_type": "stream",
     "text": [
      "the generated list is [1, 2, 3, 4]\n"
     ]
    }
   ],
   "source": [
    "nums = list()\n",
    "nums.append(1)\n",
    "nums.append(2)\n",
    "nums.append(3)\n",
    "nums.append(4)\n",
    "print(f\"the generated list is {nums}\")"
   ]
  },
  {
   "cell_type": "markdown",
   "metadata": {},
   "source": [
    "** `Question:` Remove number \"3\" in a list**"
   ]
  },
  {
   "cell_type": "code",
   "execution_count": 2,
   "metadata": {},
   "outputs": [
    {
     "name": "stdout",
     "output_type": "stream",
     "text": [
      "the list after deleting 3 is [1, 2, 4]\n"
     ]
    }
   ],
   "source": [
    "# Method 1 \n",
    "Num1 = nums.remove(3)\n",
    "print(f\"the list after deleting 3 is {nums}\")"
   ]
  },
  {
   "cell_type": "code",
   "execution_count": 3,
   "metadata": {},
   "outputs": [
    {
     "name": "stdout",
     "output_type": "stream",
     "text": [
      "the list after deleting 3 is [1, 2, 4]\n"
     ]
    }
   ],
   "source": [
    "# Method 2\n",
    "nums = [1,2,3,4]\n",
    "Num1 = nums.pop(2)\n",
    "print(f\"the list after deleting 3 is {nums}\")"
   ]
  },
  {
   "cell_type": "code",
   "execution_count": 4,
   "metadata": {},
   "outputs": [
    {
     "name": "stdout",
     "output_type": "stream",
     "text": [
      "the list after deleting 3 is [1, 2, 4]\n"
     ]
    }
   ],
   "source": [
    "# Method 3\n",
    "nums = [1,2,3,4]\n",
    "for i in nums:\n",
    "    if i == 3:\n",
    "        Num2 = nums.remove(3)\n",
    "print(f\"the list after deleting 3 is {nums}\")"
   ]
  },
  {
   "cell_type": "markdown",
   "metadata": {},
   "source": [
    "**`Question:` :Insert number \"1\" in 0th position**\n",
    "- lst = [2,3,4]"
   ]
  },
  {
   "cell_type": "code",
   "execution_count": 5,
   "metadata": {},
   "outputs": [
    {
     "name": "stdout",
     "output_type": "stream",
     "text": [
      "the list after inserting 1 is [1, 2, 3, 4]\n"
     ]
    }
   ],
   "source": [
    "lst = [2,3,4]\n",
    "List = lst.insert(0,1)\n",
    "print(f\"the list after inserting 1 is {lst}\")"
   ]
  },
  {
   "cell_type": "markdown",
   "metadata": {},
   "source": [
    "**`Question:` Insert \"two-and-half\" in 2nd position**"
   ]
  },
  {
   "cell_type": "code",
   "execution_count": 6,
   "metadata": {},
   "outputs": [
    {
     "name": "stdout",
     "output_type": "stream",
     "text": [
      "the list after inserting 1 is [1, 2, 'two-and-half', 3, 4]\n"
     ]
    }
   ],
   "source": [
    "List = lst.insert(2,'two-and-half')\n",
    "print(f\"the list after inserting 1 is {lst}\")"
   ]
  },
  {
   "cell_type": "code",
   "execution_count": null,
   "metadata": {},
   "outputs": [],
   "source": []
  },
  {
   "cell_type": "markdown",
   "metadata": {},
   "source": [
    "**`Question:` phrase = \"Don't panic!\"**\n",
    "- **Convert above text into list**"
   ]
  },
  {
   "cell_type": "code",
   "execution_count": 7,
   "metadata": {},
   "outputs": [
    {
     "name": "stdout",
     "output_type": "stream",
     "text": [
      "the list is ['D', 'o', 'n', \"'\", 't', ' ', 'p', 'a', 'n', 'i', 'c', '!']\n"
     ]
    }
   ],
   "source": [
    "phrase = \"Don't panic!\"\n",
    "Phrase = list()\n",
    "for char in phrase:\n",
    "    Phrase.append(char)\n",
    "print(f\"the list is {Phrase}\")"
   ]
  },
  {
   "cell_type": "markdown",
   "metadata": {},
   "source": [
    "*convert into list*"
   ]
  },
  {
   "cell_type": "code",
   "execution_count": null,
   "metadata": {},
   "outputs": [],
   "source": []
  },
  {
   "cell_type": "markdown",
   "metadata": {},
   "source": [
    "`Question:` Remove ** '** and **!** in the list"
   ]
  },
  {
   "cell_type": "code",
   "execution_count": 8,
   "metadata": {},
   "outputs": [
    {
     "name": "stdout",
     "output_type": "stream",
     "text": [
      "the list after deleting or removing is ['D', 'o', 'n', 't', ' ', 'p', 'a', 'n', 'i', 'c']\n"
     ]
    }
   ],
   "source": [
    "# CODE HERE\n",
    "Phrase = ['D', 'o', 'n', \"'\", 't', ' ', 'p', 'a', 'n', 'i', 'c', '!']\n",
    "for word in Phrase:\n",
    "    if word == \"'\":\n",
    "        Phrase.remove(\"'\")\n",
    "    if word == '!':\n",
    "         Phrase.remove('!')\n",
    "print(f\"the list after deleting or removing is {Phrase}\")"
   ]
  },
  {
   "cell_type": "markdown",
   "metadata": {},
   "source": [
    "**`Question:` Remove \"p\" , \"a\", \"n\",\"D\" and extend at the last**"
   ]
  },
  {
   "cell_type": "code",
   "execution_count": 9,
   "metadata": {},
   "outputs": [
    {
     "name": "stdout",
     "output_type": "stream",
     "text": [
      "the list after removing 'p','a','n','D' and extend at the last is ['o', \"'\", 't', ' ', 'n', 'i', 'c', '!', 'p', 'a', 'n', 'D']\n"
     ]
    }
   ],
   "source": [
    "char = ['D', 'o', 'n', \"'\", 't', ' ', 'p', 'a', 'n', 'i', 'c', '!']\n",
    "char.remove('p')\n",
    "char.remove('a')\n",
    "char.remove('n')\n",
    "char.remove('D')\n",
    "value=char.extend(['p','a','n','D'])\n",
    "print(f\"the list after removing 'p','a','n','D' and extend at the last is {char}\")"
   ]
  },
  {
   "cell_type": "code",
   "execution_count": null,
   "metadata": {},
   "outputs": [],
   "source": []
  },
  {
   "cell_type": "markdown",
   "metadata": {},
   "source": [
    "**`Question:` Join the given list ['p', 'a', 'n', 'D', 'a']**"
   ]
  },
  {
   "cell_type": "code",
   "execution_count": 10,
   "metadata": {},
   "outputs": [
    {
     "name": "stdout",
     "output_type": "stream",
     "text": [
      "after joining required list is panDa\n"
     ]
    }
   ],
   "source": [
    "# CODE HERE\n",
    "Data_points =  ['p', 'a', 'n', 'D', 'a']\n",
    "Data =\"\"\n",
    "for data in Data_points:\n",
    "    Data = Data + data\n",
    "print(f\"after joining required list is {Data}\")"
   ]
  },
  {
   "cell_type": "code",
   "execution_count": null,
   "metadata": {},
   "outputs": [],
   "source": []
  },
  {
   "cell_type": "markdown",
   "metadata": {},
   "source": [
    "###  Tuples"
   ]
  },
  {
   "cell_type": "markdown",
   "metadata": {},
   "source": [
    "**`Question:` Create a tuples for numbers 31,24,35,85 as nums**"
   ]
  },
  {
   "cell_type": "code",
   "execution_count": 11,
   "metadata": {},
   "outputs": [
    {
     "name": "stdout",
     "output_type": "stream",
     "text": [
      "the generated tuple is (31, 24, 35, 85)\n"
     ]
    }
   ],
   "source": [
    "# CODE HERE\n",
    "nums = (31,24,35,85)\n",
    "print(f\"the generated tuple is {nums}\")"
   ]
  },
  {
   "cell_type": "code",
   "execution_count": null,
   "metadata": {},
   "outputs": [],
   "source": []
  },
  {
   "cell_type": "markdown",
   "metadata": {},
   "source": [
    "**`Question:` Remove number \"35\" in a tuple**\n",
    "\n",
    "*Hint:* Convert into list"
   ]
  },
  {
   "cell_type": "code",
   "execution_count": 12,
   "metadata": {},
   "outputs": [
    {
     "name": "stdout",
     "output_type": "stream",
     "text": [
      "after removing 35 the collection looks like (31, 24, 85)\n"
     ]
    }
   ],
   "source": [
    "nums = (31,24,35,85)\n",
    "Num = list(nums)\n",
    "Num.remove(35)\n",
    "nums = tuple(Num)\n",
    "print(f\"after removing 35 the collection looks like {nums}\")"
   ]
  },
  {
   "cell_type": "code",
   "execution_count": null,
   "metadata": {},
   "outputs": [],
   "source": []
  },
  {
   "cell_type": "markdown",
   "metadata": {},
   "source": [
    "**Extent** tuple (85,19)"
   ]
  },
  {
   "cell_type": "code",
   "execution_count": 13,
   "metadata": {},
   "outputs": [
    {
     "name": "stdout",
     "output_type": "stream",
     "text": [
      "after removing 35 the collection looks like (31, 24, 35, 85, 85, 19)\n"
     ]
    }
   ],
   "source": [
    "nums = (31,24,35,85)\n",
    "nums = list(nums)\n",
    "nums.extend([85,19])\n",
    "nums = tuple(nums)\n",
    "print(f\"after removing 35 the collection looks like {nums}\")"
   ]
  },
  {
   "cell_type": "code",
   "execution_count": null,
   "metadata": {},
   "outputs": [],
   "source": []
  },
  {
   "cell_type": "markdown",
   "metadata": {},
   "source": [
    "**`Question:` Write code to check whether an element ('i') exists within a tuple.**\n",
    "- tpl = ('i','n''n','0')"
   ]
  },
  {
   "cell_type": "code",
   "execution_count": 14,
   "metadata": {},
   "outputs": [
    {
     "name": "stdout",
     "output_type": "stream",
     "text": [
      "'i' is present in a tuple ('i', 'n', 'n', '0')\n"
     ]
    }
   ],
   "source": [
    "# CODE HERE\n",
    "tpl = ('i','n','n','0')\n",
    "if 'i' in tpl:\n",
    "    print(f\"'i' is present in a tuple {tpl}\")"
   ]
  },
  {
   "cell_type": "code",
   "execution_count": null,
   "metadata": {},
   "outputs": [],
   "source": []
  },
  {
   "cell_type": "markdown",
   "metadata": {},
   "source": [
    "**`Question:` Write a python code to replace/insert the value**\n",
    "- list = ['Hello',100,[],'innomatics']"
   ]
  },
  {
   "cell_type": "code",
   "execution_count": 15,
   "metadata": {},
   "outputs": [
    {
     "name": "stdout",
     "output_type": "stream",
     "text": [
      "['Hello', 100, [200], 'innomatics']\n"
     ]
    }
   ],
   "source": [
    "# CODE HERE\n",
    "List = ['Hello',100,[],'innomatics']\n",
    "List.remove([])\n",
    "List.insert(2,[200])\n",
    "print(List)"
   ]
  },
  {
   "cell_type": "code",
   "execution_count": null,
   "metadata": {},
   "outputs": [],
   "source": []
  },
  {
   "cell_type": "markdown",
   "metadata": {},
   "source": [
    "**`Question:` Write a Python program to reverse a tuple.**"
   ]
  },
  {
   "cell_type": "code",
   "execution_count": 16,
   "metadata": {},
   "outputs": [
    {
     "name": "stdout",
     "output_type": "stream",
     "text": [
      "scitamonnI\n"
     ]
    }
   ],
   "source": [
    "# CODE HERE\n",
    "tpl = (\"Innomatics\")\n",
    "Data=list(tpl)\n",
    "Data.reverse()\n",
    "Data = ''.join(Data)\n",
    "print(Data)"
   ]
  },
  {
   "cell_type": "code",
   "execution_count": 67,
   "metadata": {},
   "outputs": [
    {
     "name": "stdout",
     "output_type": "stream",
     "text": [
      "I\n",
      "n\n",
      "n\n",
      "o\n",
      "m\n",
      "a\n",
      "t\n",
      "i\n",
      "c\n",
      "s\n"
     ]
    }
   ],
   "source": []
  },
  {
   "cell_type": "code",
   "execution_count": 37,
   "metadata": {},
   "outputs": [
    {
     "name": "stdout",
     "output_type": "stream",
     "text": [
      "(1, 2, 3, 4)\n"
     ]
    }
   ],
   "source": [
    "tpl1= (1,2,3)+(4,)\n",
    "print(tpl1)"
   ]
  },
  {
   "cell_type": "markdown",
   "metadata": {},
   "source": [
    "**`Question:` Write a Python program to add one more value at last postion of tuples in a list**\n",
    "- tpl = [(10, 20, 40), (40, 50, 60), (70, 80, 90)]\n",
    "- `hint- use for loop`"
   ]
  },
  {
   "cell_type": "code",
   "execution_count": 17,
   "metadata": {},
   "outputs": [
    {
     "name": "stdout",
     "output_type": "stream",
     "text": [
      "the list looks like after adding one more value at last in tuple present in list i [(10, 20, 40, 100), (40, 50, 60, 100), (70, 80, 90, 100)]\n"
     ]
    }
   ],
   "source": [
    "# CODE HERE\n",
    "tpl = [(10, 20, 40), (40, 50, 60), (70, 80, 90)]\n",
    "tpl_required = []\n",
    "for i in range(len(tpl)):\n",
    "    List = list(tpl[i])\n",
    "    List.append(100)\n",
    "    tpl[i]=tuple(List)\n",
    "    tpl_required.append(tpl[i])\n",
    "print(f\"the list looks like after adding one more value at last in tuple present in list i {tpl}\")"
   ]
  },
  {
   "cell_type": "code",
   "execution_count": null,
   "metadata": {},
   "outputs": [],
   "source": []
  },
  {
   "cell_type": "markdown",
   "metadata": {},
   "source": [
    "**`Question:` Write a Python program to replace last value of tuples in a list**\n",
    "- tpl = [(10, 20, 40), (40, 50, 60), (70, 80, 90)]\n",
    "- `hint- use for loop`"
   ]
  },
  {
   "cell_type": "code",
   "execution_count": 18,
   "metadata": {},
   "outputs": [
    {
     "name": "stdout",
     "output_type": "stream",
     "text": [
      "the list looks like after replacing last value from tuples in a list is   [(10, 20, 30), (40, 50, 30), (70, 80, 30)]\n"
     ]
    }
   ],
   "source": [
    "tpl = [(10, 20, 40), (40, 50, 60), (70, 80, 90)]\n",
    "tpl_required = []\n",
    "for i in range(len(tpl)):\n",
    "    List = list(tpl[i])\n",
    "    List[2]=30\n",
    "    tpl[i]=tuple(List)\n",
    "print(f\"the list looks like after replacing last value from tuples in a list is   {tpl}\")"
   ]
  },
  {
   "cell_type": "markdown",
   "metadata": {},
   "source": [
    "### `Question:` If the following string is given as input to the program:\n",
    "\n",
    "- '5 2 3 6 6 5'\n",
    "\n",
    "#### FInd the secong higest value from that"
   ]
  },
  {
   "cell_type": "code",
   "execution_count": 32,
   "metadata": {},
   "outputs": [
    {
     "name": "stdout",
     "output_type": "stream",
     "text": [
      "[6, 6, 5, 5, 3, 2]\n",
      "The second highest number is 5\n"
     ]
    }
   ],
   "source": [
    "# CODE HERE\n",
    "Digit = '5 2 3 6 6 5'\n",
    "value=Digit.split(\" \")\n",
    "b = [int(x) for x in value]\n",
    "b.sort(reverse=True)\n",
    "print(b)\n",
    "counter = 0\n",
    "for i in b:\n",
    "    if counter<i:\n",
    "        counter=i-1\n",
    "print(f'The second highest number is {counter}')"
   ]
  },
  {
   "cell_type": "markdown",
   "metadata": {},
   "source": [
    "### `Question:` By using list comprehension, please write a program to print the list after removing the 0th,4th,5th numbers in [12,24,35,70,88,120,155]."
   ]
  },
  {
   "cell_type": "code",
   "execution_count": 35,
   "metadata": {},
   "outputs": [
    {
     "name": "stdout",
     "output_type": "stream",
     "text": [
      "after removing 0th ,4th ,5th numbers in list is [24, 35, 70, 155]\n"
     ]
    }
   ],
   "source": [
    "# CODE HERE\n",
    "b= [12,24,35,70,88,120,155]\n",
    "\n",
    "# 0 - 12\n",
    "# 4 - 88\n",
    "# 5 - 120\n",
    "print(f'after removing 0th ,4th ,5th numbers in list is {[b[index] for index in range(len(b)) if index not in [0,4,5]]}')"
   ]
  },
  {
   "cell_type": "code",
   "execution_count": null,
   "metadata": {},
   "outputs": [],
   "source": []
  },
  {
   "cell_type": "markdown",
   "metadata": {},
   "source": [
    "### `Question:` With a given tuple (1,2,3,4,5,6,7,8,9,10), write a program to print the first half values in one line and the last half values in one line."
   ]
  },
  {
   "cell_type": "code",
   "execution_count": 41,
   "metadata": {},
   "outputs": [
    {
     "name": "stdout",
     "output_type": "stream",
     "text": [
      "[1, 2, 3, 4, 5] first half values\n",
      "[6, 7, 8, 9, 10] second half values\n"
     ]
    }
   ],
   "source": [
    "Tpl =(1,2,3,4,5,6,7,8,9,10)\n",
    "lst1 = []\n",
    "lst2= []\n",
    "for i in Tpl:\n",
    "    if i<=5:\n",
    "        lst1.append(i)\n",
    "    if i>5:\n",
    "        lst2.append(i)\n",
    "print(lst1,'first half values')\n",
    "print(lst2,'second half values')"
   ]
  },
  {
   "cell_type": "markdown",
   "metadata": {},
   "source": [
    "### `Question:` Write a program to generate and print another tuple whose values are even numbers in the given tuple (1,2,3,4,5,6,7,8,9,10)"
   ]
  },
  {
   "cell_type": "code",
   "execution_count": 48,
   "metadata": {},
   "outputs": [
    {
     "name": "stdout",
     "output_type": "stream",
     "text": [
      "the required tuple is (2, 4, 6, 8, 10) and length of that tuple is 5\n"
     ]
    }
   ],
   "source": [
    "Tpl =(1,2,3,4,5,6,7,8,9,10)\n",
    "tpl_even =list()\n",
    "for i in Tpl:\n",
    "    if i%2==0:\n",
    "        tpl_even.append(i)\n",
    "Tuple_even = tuple(tpl_even)\n",
    "print(f\"the required tuple is {Tuple_even} and length of that tuple is {len(Tuple_even)}\")\n",
    "        "
   ]
  },
  {
   "cell_type": "code",
   "execution_count": null,
   "metadata": {},
   "outputs": [],
   "source": []
  },
  {
   "cell_type": "markdown",
   "metadata": {},
   "source": [
    "# `Descriptive Questions`"
   ]
  },
  {
   "cell_type": "markdown",
   "metadata": {},
   "source": [
    "### 1. Explain the difference between list and tuple?"
   ]
  },
  {
   "cell_type": "markdown",
   "metadata": {},
   "source": [
    "The difference between **list** and **tuple** are -\n",
    "*  *list* are represented in square bracket [] while *tuple* represented in paranthesis ()\n",
    "*  *list* are mutable while *tuple* are not mutable\n",
    " "
   ]
  },
  {
   "cell_type": "markdown",
   "metadata": {},
   "source": [
    "### 2. Explain the difference between append() and extend() with examples"
   ]
  },
  {
   "cell_type": "markdown",
   "metadata": {},
   "source": [
    "Both **append()** and **extend()** methods are helps to add element or datavalues at end of collection but difference is that *append()* can add the datavalues in nested format while *extend()* can add datavalues seperataly (individually)."
   ]
  },
  {
   "cell_type": "code",
   "execution_count": 45,
   "metadata": {},
   "outputs": [
    {
     "name": "stdout",
     "output_type": "stream",
     "text": [
      "the list after appending is looks like ['dhiraj', 'viraj', ['vijay', 'father']]\n",
      "the list after extending is looks like ['dhiraj', 'viraj', ['vijay', 'father'], 'sarita', 'mother']\n"
     ]
    }
   ],
   "source": [
    "#consider a following Example\n",
    "List = ['dhiraj','viraj']\n",
    "List.append(['vijay','father'])\n",
    "print(f\"the list after appending is looks like {List}\")\n",
    "List.extend(['sarita','mother'])\n",
    "print(f\"the list after extending is looks like {List}\")"
   ]
  },
  {
   "cell_type": "markdown",
   "metadata": {},
   "source": [
    "from these we can say that append() and extend() are different."
   ]
  },
  {
   "cell_type": "markdown",
   "metadata": {},
   "source": [
    "### 3. Explain the difference between pop() and remove() with examples\n",
    "Both **pop()** and **remove** method are used for deleting values in a collection but diffrence is that pop has require index number of value as argument which we have to delete while remove method requires value as argument which we have to delete."
   ]
  },
  {
   "cell_type": "code",
   "execution_count": 49,
   "metadata": {},
   "outputs": [
    {
     "name": "stdout",
     "output_type": "stream",
     "text": [
      "the list after pop is looks like ['dhiraj', 'viraj', 'sarita', 'mother']\n",
      "the list after remove is looks like ['viraj', 'sarita', 'mother']\n"
     ]
    }
   ],
   "source": [
    "List = ['dhiraj', 'viraj', ['vijay', 'father'], 'sarita', 'mother']\n",
    "List.pop(2)\n",
    "print(f\"the list after pop is looks like {List}\")\n",
    "List.remove('dhiraj')\n",
    "print(f\"the list after remove is looks like {List}\")"
   ]
  },
  {
   "cell_type": "markdown",
   "metadata": {},
   "source": [
    "from abowe example we can say thar pop() and remove() method are different"
   ]
  },
  {
   "cell_type": "markdown",
   "metadata": {},
   "source": [
    "# [Innomatics Research Labs](https:/innomatics.in/)\n",
    "[www.innomatics.in](https:/innomatics.in/)"
   ]
  },
  {
   "cell_type": "code",
   "execution_count": null,
   "metadata": {},
   "outputs": [],
   "source": []
  }
 ],
 "metadata": {
  "kernelspec": {
   "display_name": "Python 3 (ipykernel)",
   "language": "python",
   "name": "python3"
  },
  "language_info": {
   "codemirror_mode": {
    "name": "ipython",
    "version": 3
   },
   "file_extension": ".py",
   "mimetype": "text/x-python",
   "name": "python",
   "nbconvert_exporter": "python",
   "pygments_lexer": "ipython3",
   "version": "3.12.7"
  }
 },
 "nbformat": 4,
 "nbformat_minor": 4
}
