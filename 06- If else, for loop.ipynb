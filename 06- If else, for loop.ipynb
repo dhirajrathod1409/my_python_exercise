{
 "cells": [
  {
   "cell_type": "markdown",
   "metadata": {},
   "source": [
    "> print this is hour in current minute is odd"
   ]
  },
  {
   "cell_type": "code",
   "execution_count": 9,
   "metadata": {},
   "outputs": [
    {
     "name": "stdout",
     "output_type": "stream",
     "text": [
      "Enter a time in min: 33\n"
     ]
    },
    {
     "name": "stdout",
     "output_type": "stream",
     "text": [
      "this is 0.55 hour,\n",
      "in 33 is Odd minute\n"
     ]
    }
   ],
   "source": [
    "#CODE HERE\n",
    "import time\n",
    "Min = int(input('Enter a time in min:'))\n",
    "Hour = Min/60\n",
    "print(f'this is {round(Hour,2)} hour,')\n",
    "if Min%2!=0:\n",
    "    print(f\"in {Min} is Odd minute\")\n",
    "    \n",
    "else:\n",
    "    print(f'in {Min} min is not odd minute in hour')"
   ]
  },
  {
   "cell_type": "markdown",
   "metadata": {},
   "source": [
    "> if today is satarday then print 'Party !!!' or if sunday print take rest other wise print work , work, work"
   ]
  },
  {
   "cell_type": "code",
   "execution_count": 11,
   "metadata": {},
   "outputs": [
    {
     "name": "stdout",
     "output_type": "stream",
     "text": [
      "Enter 1 for mon\n",
      "Enter 2 for Tue\n",
      "Enter 3 for wed\n",
      "Enter 4 for thur\n",
      "Enter 5 for fri\n",
      "Enter 6 for sat\n",
      "enter 7 for sun\n"
     ]
    },
    {
     "name": "stdout",
     "output_type": "stream",
     "text": [
      "Enter Today is : 4\n"
     ]
    },
    {
     "name": "stdout",
     "output_type": "stream",
     "text": [
      "work,work,work\n"
     ]
    }
   ],
   "source": [
    "#CODE HERE\n",
    "print('Enter 1 for mon')\n",
    "print('Enter 2 for Tue')\n",
    "print('Enter 3 for wed')\n",
    "print('Enter 4 for thur')\n",
    "print('Enter 5 for fri')\n",
    "print('Enter 6 for sat')\n",
    "print('enter 7 for sun')\n",
    "Today = input('Enter Today is :')\n",
    "if Today =='6':\n",
    "    print('Its Party time!!!')\n",
    "elif Today =='7':\n",
    "    print('Take rest.')\n",
    "else:\n",
    "    print('work,work,work')"
   ]
  },
  {
   "cell_type": "markdown",
   "metadata": {},
   "source": [
    "> Write a program which will find all such numbers which are divisible by 7 but are not a multiple of 5, between 2000 and 3200 (both included). The numbers obtained should be printed in a comma-separated sequence on a single line."
   ]
  },
  {
   "cell_type": "code",
   "execution_count": 12,
   "metadata": {},
   "outputs": [
    {
     "name": "stdout",
     "output_type": "stream",
     "text": [
      "The numbers which are divisible by 7 but not a multiple of 5 between 2000 and 3200 are:\n",
      "------------------------------------------------------------------------------------------------------------------------------------------------------\n",
      "2002,2009,2016,2023,2037,2044,2051,2058,2072,2079,2086,2093,2107,2114,2121,2128,2142,2149,2156,2163,2177,2184,2191,2198,2212,2219,2226,2233,2247,2254,2261,2268,2282,2289,2296,2303,2317,2324,2331,2338,2352,2359,2366,2373,2387,2394,2401,2408,2422,2429,2436,2443,2457,2464,2471,2478,2492,2499,2506,2513,2527,2534,2541,2548,2562,2569,2576,2583,2597,2604,2611,2618,2632,2639,2646,2653,2667,2674,2681,2688,2702,2709,2716,2723,2737,2744,2751,2758,2772,2779,2786,2793,2807,2814,2821,2828,2842,2849,2856,2863,2877,2884,2891,2898,2912,2919,2926,2933,2947,2954,2961,2968,2982,2989,2996,3003,3017,3024,3031,3038,3052,3059,3066,3073,3087,3094,3101,3108,3122,3129,3136,3143,3157,3164,3171,3178,3192,3199,"
     ]
    }
   ],
   "source": [
    "#CODE HERE\n",
    "print(f'The numbers which are divisible by 7 but not a multiple of 5 between 2000 and 3200 are:')\n",
    "print(\"-\"*150)\n",
    "i=2000\n",
    "while i<=3200:\n",
    "    if i%7==0 and i%5!=0:\n",
    "        print(i,end =\",\")\n",
    "    i+=1"
   ]
  },
  {
   "cell_type": "code",
   "execution_count": 54,
   "metadata": {},
   "outputs": [],
   "source": [
    "#CODE HERE"
   ]
  },
  {
   "cell_type": "markdown",
   "metadata": {},
   "source": [
    "> Write a program which can compute the factorial of a given numbers.\n",
    "The results should be printed in a comma-separated sequence on a single line.\n",
    "Suppose the following input is supplied to the program:\n",
    "8\n",
    "Then, the output should be:\n",
    "40320"
   ]
  },
  {
   "cell_type": "code",
   "execution_count": 14,
   "metadata": {},
   "outputs": [
    {
     "name": "stdout",
     "output_type": "stream",
     "text": [
      "Enter a number: 8\n"
     ]
    },
    {
     "name": "stdout",
     "output_type": "stream",
     "text": [
      "The factorial of number is 40320\n"
     ]
    }
   ],
   "source": [
    "#CODE HERE\n",
    "num=int(input(\"Enter a number:\"))\n",
    "i=0\n",
    "counter=1\n",
    "while i<num:\n",
    "    counter = counter*num\n",
    "    num -=1\n",
    "print(f\"The factorial of number is {counter}\")"
   ]
  },
  {
   "cell_type": "markdown",
   "metadata": {},
   "source": [
    "> With a given integral number n, write a program to generate a dictionary that contains (i, i*i) such that is an integral number between 1 and n (both included). and then the program should print the dictionary.\n",
    "Suppose the following input is supplied to the program:\n",
    "8\n",
    "Then, the output should be:\n",
    "{1: 1, 2: 4, 3: 9, 4: 16, 5: 25, 6: 36, 7: 49, 8: 64}\n",
    "\n",
    "*Hint* : use dict()"
   ]
  },
  {
   "cell_type": "code",
   "execution_count": 15,
   "metadata": {},
   "outputs": [
    {
     "name": "stdout",
     "output_type": "stream",
     "text": [
      "Enter a number: 8\n"
     ]
    },
    {
     "name": "stdout",
     "output_type": "stream",
     "text": [
      "The required dictionary in format of (i,i*i) is {1: 1, 2: 4, 3: 9, 4: 16, 5: 25, 6: 36, 7: 49, 8: 64}\n"
     ]
    }
   ],
   "source": [
    "#CODE HERE\n",
    "value =int(input('Enter a number:'))\n",
    "Dict={}\n",
    "i=1\n",
    "while i<=value:\n",
    "    Dict[i]=i**2\n",
    "    i+=1\n",
    "print(f\"The required dictionary in format of (i,i*i) is {Dict}\")"
   ]
  },
  {
   "cell_type": "markdown",
   "metadata": {},
   "source": [
    "> create user defined fuction for \n",
    "- addition \"add\"\n",
    "- subtraction \"sub\"\n",
    "- multiplication \"mul\"\n",
    "- division \"div\"\n",
    "- power \"pow\""
   ]
  },
  {
   "cell_type": "code",
   "execution_count": 6,
   "metadata": {},
   "outputs": [
    {
     "name": "stdout",
     "output_type": "stream",
     "text": [
      "Enter first value: 5\n",
      "Enter second value: 6\n",
      "Enter the keyword add,sub,mul,div,pow\n",
      "for addition,substraction,multiplication,division and power respt: pow\n"
     ]
    },
    {
     "name": "stdout",
     "output_type": "stream",
     "text": [
      "<function Pow at 0x000002CCEBB3C220>\n",
      "these are the power of X and Y respectively\n"
     ]
    }
   ],
   "source": [
    "#CODE HERE\n",
    "def Add():\n",
    "    return X+Y\n",
    "def Sub():\n",
    "    return X-Y\n",
    "def Mul():\n",
    "    return X*Y\n",
    "def Div():\n",
    "    return X/Y\n",
    "def Pow():\n",
    "    X_power = X**2\n",
    "    Y_power = Y**2\n",
    "    print(X_power)\n",
    "    print(Y_power)\n",
    "X=int(input('Enter first value:'))\n",
    "Y=int(input('Enter second value:'))\n",
    "INPUT = input('Enter the keyword add,sub,mul,div,pow\\nfor addition,substraction,multiplication,division and power respt:')\n",
    "if INPUT=='add':\n",
    "    print(f'The addition of {X} and {Y} = {add()}')\n",
    "elif INPUT=='sub':\n",
    "   print(f'The substraction of {X} and {Y} = {sub()}')\n",
    "elif INPUT=='mul':\n",
    "    print(f'The multiplication of {X} and {Y} = {mul()}')\n",
    "elif INPUT=='div':\n",
    "   print(f'The division of {X} and {Y} = {div()}')\n",
    "elif INPUT=='pow':\n",
    "    print(Pow())\n",
    "    print('these are the power of X and Y respectively')\n",
    "else:\n",
    "    print('enter valid input,sorry!')"
   ]
  },
  {
   "cell_type": "markdown",
   "metadata": {},
   "source": [
    "### Write a Python program that accepts a string and calculate the number of digits and letters.\n",
    "- Input\n",
    "\n",
    "    - Hello321Bye360\n",
    "- Output\n",
    "\n",
    "    - Digit - 6\n",
    "\n",
    "    - Letter - 8"
   ]
  },
  {
   "cell_type": "code",
   "execution_count": 11,
   "metadata": {},
   "outputs": [
    {
     "name": "stdout",
     "output_type": "stream",
     "text": [
      "ENter the text: Dhiraj14245678rathod\n"
     ]
    },
    {
     "name": "stdout",
     "output_type": "stream",
     "text": [
      "the number of letters in string is 12\n",
      "the number of digit in string is 8\n"
     ]
    }
   ],
   "source": [
    "# CODE HERE\n",
    "word = input(\"ENter the text:\")\n",
    "letter=0\n",
    "digit=0\n",
    "for i in word:\n",
    "    if i.isalpha():\n",
    "        letter+=1\n",
    "    elif i.isdigit():\n",
    "        digit+=1\n",
    "print(f'The number of letters in string is {letter}')\n",
    "print(f'The number of digit in string is {digit}')"
   ]
  },
  {
   "cell_type": "markdown",
   "metadata": {},
   "source": [
    "### With a given tuple (1,2,3,4,5,6,7,8,9,10), write a program to print the first half values in one line and the last half values in one line."
   ]
  },
  {
   "cell_type": "code",
   "execution_count": 13,
   "metadata": {},
   "outputs": [
    {
     "name": "stdout",
     "output_type": "stream",
     "text": [
      "1 2 3 4 5 \n",
      "\n",
      "6 7 8 9 10 "
     ]
    }
   ],
   "source": [
    "# METHOD - 1\n",
    "collection = (1,2,3,4,5,6,7,8,9,10)\n",
    "i=1\n",
    "j=1\n",
    "while i<=len(collection):\n",
    "    if i<=5:\n",
    "        print(i,end=' ')\n",
    "    i+=1\n",
    "print('\\n')\n",
    "while j<=len(collection):\n",
    "    if j>5:\n",
    "        print(j,end=' ')\n",
    "    j+=1"
   ]
  },
  {
   "cell_type": "code",
   "execution_count": 191,
   "metadata": {},
   "outputs": [
    {
     "name": "stdout",
     "output_type": "stream",
     "text": [
      "(1, 2, 3, 4, 5)\n",
      "(6, 7, 8, 9, 10)\n"
     ]
    }
   ],
   "source": [
    "# METHOD - 2\n",
    "collection = (1,2,3,4,5,6,7,8,9,10)\n",
    "first_half=[]\n",
    "second_half=[]\n",
    "for i in collection:\n",
    "    if i<=5:\n",
    "       first_half.append(i)\n",
    "    else:\n",
    "        second_half.append(i)\n",
    "print(tuple(first_half))\n",
    "print(tuple(second_half))"
   ]
  },
  {
   "cell_type": "code",
   "execution_count": 190,
   "metadata": {},
   "outputs": [
    {
     "name": "stdout",
     "output_type": "stream",
     "text": [
      "The first half values are [1, 2, 3, 4, 5]\n",
      "The second half values are [6, 7, 8, 9, 10]\n"
     ]
    }
   ],
   "source": [
    "# METHOD - 3\n",
    "collection = (1,2,3,4,5,6,7,8,9,10)\n",
    "first_half=[]\n",
    "second_half=[]\n",
    "for i in collection:\n",
    "    if i<=5:\n",
    "       first_half.append(i)\n",
    "    else:\n",
    "        second_half.append(i)\n",
    "print('The first half values are',first_half)\n",
    "print('The second half values are',second_half)"
   ]
  },
  {
   "cell_type": "markdown",
   "metadata": {},
   "source": [
    "### Write a program to generate and print another tuple whose values are even numbers in the given tuple (1,2,3,4,5,6,7,8,9,10)"
   ]
  },
  {
   "cell_type": "code",
   "execution_count": 183,
   "metadata": {},
   "outputs": [
    {
     "name": "stdout",
     "output_type": "stream",
     "text": [
      "the required tuple with even values is (2, 4, 6, 8, 10)\n"
     ]
    }
   ],
   "source": [
    "collection = (1,2,3,4,5,6,7,8,9,10)\n",
    "even_collection = []\n",
    "for i in collection:\n",
    "    if i%2==0:\n",
    "        even_collection.append(i)\n",
    "print(f'the required tuple with even values is {tuple(even_collection)}')"
   ]
  },
  {
   "cell_type": "markdown",
   "metadata": {},
   "source": [
    "### Write a program which accepts a string as input to print \"Yes\" if the string is \"yes\" or \"YES\" or \"Yes\", otherwise print \"No\""
   ]
  },
  {
   "cell_type": "code",
   "execution_count": 187,
   "metadata": {},
   "outputs": [
    {
     "name": "stdout",
     "output_type": "stream",
     "text": [
      "Please type something. -->  djo\n"
     ]
    },
    {
     "name": "stdout",
     "output_type": "stream",
     "text": [
      "No\n"
     ]
    }
   ],
   "source": [
    "text = input(\"Please type something. --> \")\n",
    "if text =='yes'or text==\"YES\" or text==\"Yes\":\n",
    "    print('Yes')\n",
    "else:\n",
    "    print('No')\n"
   ]
  },
  {
   "cell_type": "markdown",
   "metadata": {},
   "source": [
    "### Please write a program to generate a list with 5 random numbers between 100 and 200 inclusive."
   ]
  },
  {
   "cell_type": "code",
   "execution_count": 188,
   "metadata": {},
   "outputs": [
    {
     "name": "stdout",
     "output_type": "stream",
     "text": [
      "the required list of 5 random numbers between 100 and 200 inclusive:[164, 188, 155, 192, 199]\n"
     ]
    }
   ],
   "source": [
    "import random\n",
    "number=[]\n",
    "for i in range(5):\n",
    "    num= random.randint(99,201)\n",
    "    number.append(num)\n",
    "print(f\"the required list of 5 random numbers between 100 and 200 inclusive:{number}\")"
   ]
  },
  {
   "cell_type": "markdown",
   "metadata": {},
   "source": [
    "### Please generate a random float where the value is between 5 and 95 using Python module."
   ]
  },
  {
   "cell_type": "code",
   "execution_count": 5,
   "metadata": {},
   "outputs": [
    {
     "name": "stdout",
     "output_type": "stream",
     "text": [
      "The random float value between 5 and 95 is 63.92\n"
     ]
    }
   ],
   "source": [
    "import random\n",
    "float_value = random.uniform(5,95)\n",
    "print(f'The random float value between 5 and 95 is {round(float_value,2)}')"
   ]
  },
  {
   "cell_type": "markdown",
   "metadata": {},
   "source": [
    "### [1,1,1,1,3,3,4,4,4,5,6,7,8,8,8]\n",
    "#### 1. from the above list print the uniques values\n",
    "#### 2. count how many times each number exist\n",
    "#### 3. Print the number which is occured more number of times"
   ]
  },
  {
   "cell_type": "code",
   "execution_count": 195,
   "metadata": {},
   "outputs": [
    {
     "name": "stdout",
     "output_type": "stream",
     "text": [
      "The unique values in given list are-[1, 3, 4, 5, 6, 7, 8]\n"
     ]
    }
   ],
   "source": [
    "Data = [1,1,1,1,3,3,4,4,4,5,6,7,8,8,8]\n",
    "data=[]\n",
    "for i in Data:\n",
    "    if i not in data:\n",
    "        data.append(i)\n",
    "print(f\"The unique values in given list are-{data}\")"
   ]
  },
  {
   "cell_type": "code",
   "execution_count": 200,
   "metadata": {},
   "outputs": [
    {
     "name": "stdout",
     "output_type": "stream",
     "text": [
      "the count of how many number exit in list is {1: 4, 3: 2, 4: 3, 5: 1, 6: 1, 7: 1, 8: 3} where key is element and value is occurence of that number\n"
     ]
    }
   ],
   "source": [
    "Data = [1,1,1,1,3,3,4,4,4,5,6,7,8,8,8]\n",
    "data=[]\n",
    "for i in Data:\n",
    "    if i not in data:\n",
    "        data.append(i)\n",
    "Dict={}\n",
    "for i in  Data:\n",
    "    if i in data:\n",
    "       Dict[i]=Data.count(i)\n",
    "print(f'the count of how many number exit in list is {Dict} where key is element and value is occurence of that number')"
   ]
  },
  {
   "cell_type": "code",
   "execution_count": 7,
   "metadata": {},
   "outputs": [
    {
     "name": "stdout",
     "output_type": "stream",
     "text": [
      "4\n",
      "1\n",
      "number 1 is occuring maximum 4 number of times\n"
     ]
    }
   ],
   "source": [
    "Data = [1,1,1,1,3,3,4,4,4,5,6,7,8,8,8]\n",
    "counter=0\n",
    "for i in Data:\n",
    "    if counter<Data.count(i):\n",
    "        counter=Data.count(i)\n",
    "        number=i\n",
    "print(counter)\n",
    "print(number)\n",
    "print(f'number {number} is occuring maximum {counter} number of times')"
   ]
  },
  {
   "cell_type": "markdown",
   "metadata": {},
   "source": [
    "# [Innomatics Research Labs](https:/innomatics.in/)\n",
    "[www.innomatics.in](https:/innomatics.in/)"
   ]
  },
  {
   "cell_type": "code",
   "execution_count": null,
   "metadata": {},
   "outputs": [],
   "source": []
  },
  {
   "cell_type": "code",
   "execution_count": null,
   "metadata": {},
   "outputs": [],
   "source": []
  }
 ],
 "metadata": {
  "kernelspec": {
   "display_name": "Python 3 (ipykernel)",
   "language": "python",
   "name": "python3"
  },
  "language_info": {
   "codemirror_mode": {
    "name": "ipython",
    "version": 3
   },
   "file_extension": ".py",
   "mimetype": "text/x-python",
   "name": "python",
   "nbconvert_exporter": "python",
   "pygments_lexer": "ipython3",
   "version": "3.12.7"
  }
 },
 "nbformat": 4,
 "nbformat_minor": 4
}
