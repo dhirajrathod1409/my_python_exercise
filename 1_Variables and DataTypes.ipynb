{
 "cells": [
  {
   "cell_type": "markdown",
   "metadata": {},
   "source": [
    "# Assignment Instructions\n",
    "\n",
    "`Hello Innominion,`\n",
    "\n",
    "- **Try to attempt all the questions in every possible way.**\n",
    "- **Some other topics are required to solve some questions. don't panic.**\n",
    "- **Those questions can be answered after the topics are taught.**\n",
    "\n",
    "\n",
    "- `Join Mentoring Session for the Support/Doubts Resolving with Our Technical Mentors (2.00 PM - 6.00 PM  Mon-Sat)` \n",
    "\n",
    "Happy Learning !!!"
   ]
  },
  {
   "cell_type": "markdown",
   "metadata": {},
   "source": [
    "## Basics of Python"
   ]
  },
  {
   "cell_type": "markdown",
   "metadata": {},
   "source": [
    "> `Question:` Print your name"
   ]
  },
  {
   "cell_type": "code",
   "execution_count": 1,
   "metadata": {},
   "outputs": [
    {
     "name": "stdout",
     "output_type": "stream",
     "text": [
      "My name is Dhiraj.\n"
     ]
    }
   ],
   "source": [
    "name = \"My name is Dhiraj.\"\n",
    "print(name)"
   ]
  },
  {
   "cell_type": "markdown",
   "metadata": {},
   "source": [
    "> `Question:` What is a variable? Write a Few words about Variables. Create a Variable with an Example. "
   ]
  },
  {
   "cell_type": "markdown",
   "metadata": {},
   "source": [
    "Variable is a container to stored a value in a memory in other words we can say that variable is handler to store information .\n",
    "In order to perform certain task on data(assign CPU),firstly we have to stored into some memory space thus we use variable for that purpose.\n",
    "In python we have some rules for defining Variable-\n",
    "* Variable `name` not start with number but ends with `number`.\n",
    "* `spaces` not allow while defining if we have to use `spaces` then use underscore instead of it.\n",
    "* special Character not allow except `Underscore`\n"
   ]
  },
  {
   "cell_type": "code",
   "execution_count": null,
   "metadata": {},
   "outputs": [],
   "source": [
    "# Creating a variable name Var\n",
    "var = \"Here I solve the given qustion!\"    # Example of defining a Variable and assign him value"
   ]
  },
  {
   "cell_type": "markdown",
   "metadata": {},
   "source": [
    ">`Question:` Assume that we execute the following assignment statements:\n",
    "width = 17\n",
    "height = 12.0\n",
    "delimiter = '.'\n",
    "For each of the following expressions, write the value of the expression and the type (of the value of\n",
    "the expression).\n",
    "1. width/2\n",
    "2. width/2.0\n",
    "3. height/3\n",
    "4. 1 + 2 * 5\n",
    "5. delimiter * 5"
   ]
  },
  {
   "cell_type": "code",
   "execution_count": 33,
   "metadata": {},
   "outputs": [
    {
     "name": "stdout",
     "output_type": "stream",
     "text": [
      "width/2 = 8.5 <class 'float'>\n",
      "width/2.0 = 8.5 <class 'float'>\n",
      "height/3 = 4.0 <class 'float'>\n",
      "11 <class 'int'>\n",
      "..... <class 'str'>\n"
     ]
    }
   ],
   "source": [
    "width = 17\n",
    "height = 12.0\n",
    "delimiter = \".\"\n",
    "Wid1 = width/2\n",
    "Wid2 = width/2.0\n",
    "Height = height/3\n",
    "Total = 1 + 2*5\n",
    "Delimiter = delimiter*5\n",
    "print(f\"width/2 = {Wid1}\",type(Wid1))\n",
    "print(f\"width/2.0 = {Wid2}\",type(Wid2))\n",
    "print(f\"height/3 = {Height}\",type(Height))\n",
    "print(f\"{Total}\",type(Total))\n",
    "print(f\"{Delimiter}\",type(Delimiter))"
   ]
  },
  {
   "cell_type": "raw",
   "metadata": {},
   "source": [
    "# Sample Outputs\n",
    "1. width/2 = 8.5\n",
    "2. width/2.0 = 8.5\n",
    "3. height/3 = 4.0\n",
    "4. 11\n",
    "5. ....."
   ]
  },
  {
   "cell_type": "markdown",
   "metadata": {},
   "source": [
    "> `Question:` Add two number by taking variable names as first and seccond"
   ]
  },
  {
   "cell_type": "code",
   "execution_count": 19,
   "metadata": {},
   "outputs": [
    {
     "name": "stdout",
     "output_type": "stream",
     "text": [
      "enter the value of first number: 100\n",
      "enter the value of second number: 200\n"
     ]
    },
    {
     "name": "stdout",
     "output_type": "stream",
     "text": [
      "the addition of two numbers are : 300\n"
     ]
    }
   ],
   "source": [
    "first_number = int(input(\"enter the value of first number:\"))\n",
    "second_number = int(input(\"enter the value of second number:\"))\n",
    "ADD = first_number + second_number\n",
    "print(f\"the addition of two numbers are : {ADD}\")"
   ]
  },
  {
   "cell_type": "code",
   "execution_count": 6,
   "metadata": {},
   "outputs": [
    {
     "name": "stdout",
     "output_type": "stream",
     "text": [
      "first number is : 100\n",
      "second number is : 200\n",
      "Addition of two numbers are : 300\n"
     ]
    }
   ],
   "source": []
  },
  {
   "cell_type": "markdown",
   "metadata": {},
   "source": [
    "> `Question:` Add your first name and second name"
   ]
  },
  {
   "cell_type": "code",
   "execution_count": 2,
   "metadata": {},
   "outputs": [
    {
     "name": "stdout",
     "output_type": "stream",
     "text": [
      "My first name: Sachin\n",
      "My second name: Tendulkar\n"
     ]
    },
    {
     "name": "stdout",
     "output_type": "stream",
     "text": [
      "My full name is :Sachin Tendulkar\n"
     ]
    }
   ],
   "source": [
    "first_name = input(\"My first name:\")\n",
    "second_name = input(\"My second name:\")\n",
    "con_name = first_name +\" \"+ second_name\n",
    "print(f\"My full name is :{con_name}\")"
   ]
  },
  {
   "cell_type": "code",
   "execution_count": 8,
   "metadata": {},
   "outputs": [
    {
     "name": "stdout",
     "output_type": "stream",
     "text": [
      "My first name is : Sachin\n",
      "My second name is : Tendulkar\n",
      "My full name is : Sachin Tendulkar\n"
     ]
    }
   ],
   "source": []
  },
  {
   "cell_type": "code",
   "execution_count": null,
   "metadata": {},
   "outputs": [],
   "source": []
  },
  {
   "cell_type": "markdown",
   "metadata": {},
   "source": [
    "> `Question:` print the datatypes of the following\n",
    "- 10,'10',True,10.5"
   ]
  },
  {
   "cell_type": "code",
   "execution_count": 35,
   "metadata": {},
   "outputs": [
    {
     "name": "stdout",
     "output_type": "stream",
     "text": [
      "10 - <class 'int'>\n",
      "10 - <class 'str'>\n",
      "True - <class 'bool'>\n",
      "10.5 - <class 'float'>\n"
     ]
    }
   ],
   "source": [
    "a = 10\n",
    "b = '10'\n",
    "c = True\n",
    "d = 10.5\n",
    "print(f\"{a} -\",type(a))\n",
    "print(f\"{b} -\",type(b))\n",
    "print(f\"{c} -\",type(c))\n",
    "print(f\"{d} -\",type(d))"
   ]
  },
  {
   "cell_type": "code",
   "execution_count": 11,
   "metadata": {},
   "outputs": [
    {
     "name": "stdout",
     "output_type": "stream",
     "text": [
      "10 -  <class 'int'>\n",
      "'10' -  <class 'str'>\n",
      "True -  <class 'bool'>\n",
      "10.5 -  <class 'float'>\n"
     ]
    }
   ],
   "source": []
  },
  {
   "cell_type": "markdown",
   "metadata": {},
   "source": [
    " `Question:` \n",
    "> - num_int = 123\n",
    "> - num_str = \"456\"\n",
    "> - Add num_int and num_str\n",
    "- `hint: first need to convert num_str into integer`"
   ]
  },
  {
   "cell_type": "code",
   "execution_count": 40,
   "metadata": {},
   "outputs": [
    {
     "name": "stdout",
     "output_type": "stream",
     "text": [
      "Addition of 123 and 456 is :  579\n"
     ]
    }
   ],
   "source": [
    "num_int = 123\n",
    "num_str = \"456\"\n",
    "num_str = int(num_str)\n",
    "add = num_int + num_str\n",
    "print(f\"Addition of {num_int} and {num_str} is : \",add)"
   ]
  },
  {
   "cell_type": "code",
   "execution_count": 13,
   "metadata": {},
   "outputs": [
    {
     "name": "stdout",
     "output_type": "stream",
     "text": [
      "Addition of 123 and 456 is :  579\n"
     ]
    }
   ],
   "source": []
  },
  {
   "cell_type": "code",
   "execution_count": null,
   "metadata": {},
   "outputs": [],
   "source": []
  },
  {
   "cell_type": "markdown",
   "metadata": {},
   "source": [
    "### Advanced Questions"
   ]
  },
  {
   "cell_type": "markdown",
   "metadata": {},
   "source": [
    "> `Question:` The volume of a sphere with radius r is  4/3πr3  . What is the volume of a sphere with radius 5?"
   ]
  },
  {
   "cell_type": "code",
   "execution_count": 42,
   "metadata": {},
   "outputs": [
    {
     "name": "stdout",
     "output_type": "stream",
     "text": [
      "The Volume of a sphere with radius 5 is : 523.8095238095237\n"
     ]
    }
   ],
   "source": [
    "r = 5\n",
    "volume = (4/3)*(22/7)*r**3\n",
    "print(f\"The Volume of a sphere with radius {r} is :\",volume)"
   ]
  },
  {
   "cell_type": "markdown",
   "metadata": {},
   "source": [
    "> `Question:` Suppose the cover price of a book is Rs.24.95, but bookstores get a 40% discount. Shipping costs Rs.3 for the first copy and 75 paise for each additional copy. What is the total wholesale cost for 60 copies?"
   ]
  },
  {
   "cell_type": "code",
   "execution_count": 9,
   "metadata": {},
   "outputs": [
    {
     "name": "stdout",
     "output_type": "stream",
     "text": [
      "enter the count of first copy out of 60: 30\n",
      "enter the count of additional copy out of (60-firstcopy): 30\n"
     ]
    },
    {
     "name": "stdout",
     "output_type": "stream",
     "text": [
      "The total price of 60 books is =1497.0\n",
      "The discount got by bookstore is =598.8000000000001\n",
      "The final price after discount of bookstore is =898.1999999999999\n",
      "shipping cost of first copies =90\n",
      "shipping cost of additional copies =22.5\n",
      "The total whole sale cost for 60 copies is =1005.0749999999999\n"
     ]
    }
   ],
   "source": [
    "first_copy = int(input(\"enter the count of first copy out of 60:\"))\n",
    "additional_copy = int(input(\"enter the count of additional copy out of (60-firstcopy):\"))\n",
    "book_price = 24.95\n",
    "total_copy = 60\n",
    "price_60 = total_copy*book_price\n",
    "bookstore_discount = price_60 *(40/100)\n",
    "final_amount = price_60 - bookstore_discount\n",
    "shippingcost_firstcopy = 3 * first_copy\n",
    "shippingcost_additionalcopy = 0.75 * additional_copy\n",
    "Total_wholesale_cost = final_amount + shippingcost_firstcopy + 0.75 * shippingcost_additionalcopy\n",
    "print(f\"The total price of 60 books is ={price_60}\")\n",
    "print(f\"The discount got by bookstore is ={bookstore_discount}\")\n",
    "print(f\"The final price after discount of bookstore is ={final_amount}\")\n",
    "print(f\"shipping cost of first copies ={shippingcost_firstcopy}\")\n",
    "print(f\"shipping cost of additional copies ={shippingcost_additionalcopy}\")\n",
    "print(f\"The total whole sale cost for 60 copies is ={Total_wholesale_cost}\")"
   ]
  },
  {
   "cell_type": "code",
   "execution_count": null,
   "metadata": {},
   "outputs": [],
   "source": []
  },
  {
   "cell_type": "code",
   "execution_count": null,
   "metadata": {},
   "outputs": [],
   "source": []
  },
  {
   "cell_type": "markdown",
   "metadata": {},
   "source": [
    "# [Innomatics Research Labs](https:/innomatics.in/)\n",
    "[www.innomatics.in](https:/innomatics.in/)"
   ]
  }
 ],
 "metadata": {
  "kernelspec": {
   "display_name": "Python 3 (ipykernel)",
   "language": "python",
   "name": "python3"
  },
  "language_info": {
   "codemirror_mode": {
    "name": "ipython",
    "version": 3
   },
   "file_extension": ".py",
   "mimetype": "text/x-python",
   "name": "python",
   "nbconvert_exporter": "python",
   "pygments_lexer": "ipython3",
   "version": "3.12.7"
  }
 },
 "nbformat": 4,
 "nbformat_minor": 4
}
